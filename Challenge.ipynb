{
 "cells": [
  {
   "cell_type": "code",
   "execution_count": 90,
   "metadata": {
    "colab": {
     "base_uri": "https://localhost:8080/"
    },
    "id": "4XwxO1ApU4kr",
    "outputId": "4ffd924f-d816-4beb-d73f-f62f6531b1ea"
   },
   "outputs": [],
   "source": [
    "# from google.colab import drive\n",
    "# drive.mount('/content/drive')"
   ]
  },
  {
   "cell_type": "code",
   "execution_count": 91,
   "metadata": {
    "id": "zD7PcaT5Ut9o"
   },
   "outputs": [],
   "source": [
    "import pickle\n",
    "import numpy as np\n",
    "\n",
    "with open('raw_data.pkl', 'rb') as f:\n",
    "    data = pickle.load(f)\n",
    "    \n",
    "    \n",
    "from sklearn.model_selection import train_test_split\n",
    "X_train, x_test, y_train, y_test = train_test_split(np.array(data[0]),np.array(data[1]),stratify=data[1],test_size=0.2,random_state=777,shuffle=True)\n",
    "\n",
    "\n",
    "    \n"
   ]
  },
  {
   "cell_type": "code",
   "execution_count": 92,
   "metadata": {
    "colab": {
     "base_uri": "https://localhost:8080/"
    },
    "id": "ga-GtWvWVMrL",
    "outputId": "2b082d14-1042-4120-c716-77c3a76c2399"
   },
   "outputs": [
    {
     "name": "stdout",
     "output_type": "stream",
     "text": [
      "(7680, 11025)\n",
      "(1920, 11025)\n",
      "7680 11025\n",
      "1920 11025\n",
      "(1920,)\n",
      "(7680,)\n"
     ]
    }
   ],
   "source": [
    "print(X_train.shape)\n",
    "print(x_test.shape)\n",
    "print(len(X_train),len(X_train[1]))\n",
    "print(len(x_test),len(x_test[1]))\n",
    "print(y_test.shape)\n",
    "print(y_train.shape)"
   ]
  },
  {
   "cell_type": "code",
   "execution_count": 93,
   "metadata": {
    "colab": {
     "base_uri": "https://localhost:8080/"
    },
    "id": "l2-w8YrTaP8g",
    "outputId": "79cce79c-510f-4a87-8fa4-dbe4720bafa8"
   },
   "outputs": [
    {
     "name": "stdout",
     "output_type": "stream",
     "text": [
      "600\n",
      "600\n"
     ]
    }
   ],
   "source": [
    "print(len(np.unique(y_train)))\n",
    "print(len(np.unique(y_test)))"
   ]
  },
  {
   "cell_type": "code",
   "execution_count": 94,
   "metadata": {
    "id": "42uzpc-AUt9w"
   },
   "outputs": [],
   "source": [
    "import pandas as pd \n"
   ]
  },
  {
   "cell_type": "code",
   "execution_count": 95,
   "metadata": {
    "colab": {
     "base_uri": "https://localhost:8080/",
     "height": 36
    },
    "id": "kaR3UEHDUt9x",
    "outputId": "a4549a87-0b2e-483d-e6ad-418c8eb267e9"
   },
   "outputs": [],
   "source": [
    "# import tensorflow as tf\n",
    "# tf.version.VERSION\n",
    "\n",
    "# # df = pd.DataFrame(data=x_train)\n",
    "# # print(df)\n",
    "# #[7680 rows x 11025 columns]\n"
   ]
  },
  {
   "cell_type": "code",
   "execution_count": 96,
   "metadata": {
    "id": "57KQNd6TUt91"
   },
   "outputs": [],
   "source": [
    "\n",
    "#basic imports\n",
    "import glob\n",
    "import IPython\n",
    "from random import randint\n",
    "\n",
    "#data processing\n",
    "\n",
    "import numpy as np\n",
    "\n",
    "#modelling\n",
    "from sklearn.model_selection import train_test_split\n",
    "\n",
    "from keras import backend as K\n",
    "from keras.layers import Activation\n",
    "from keras.layers import Input, Lambda, Dense, Dropout, Flatten\n",
    "from keras.models import Model\n",
    "from keras.optimizers import RMSprop\n",
    "\n"
   ]
  },
  {
   "cell_type": "code",
   "execution_count": 149,
   "metadata": {
    "id": "2ZeANeF_c58E"
   },
   "outputs": [],
   "source": [
    "# https://www.pyimagesearch.com/2020/11/23/building-image-pairs-for-siamese-networks-with-python/\n",
    "import random\n",
    "def make_pairs(images, labels):\n",
    "    pairImages = []\n",
    "    pairLabels = []\n",
    "    numClasses = len(np.unique(labels))\n",
    "    \n",
    "    #idx = [np.where(labels == i)[0] for i in range(0, numClasses)]\n",
    "    \n",
    "#     print(len(labels))\n",
    "   \n",
    "    idx = []\n",
    "    counter = 0\n",
    "    for i in range(0, max(labels)+1):\n",
    "        personPoints = (np.where(labels == i)[0])\n",
    "        if len(personPoints) > 0: \n",
    "            \n",
    "#             randomValue = random.randint(0, len(personPoints)-1)\n",
    "#             print(personPoints)\n",
    "            idx.append(personPoints)\n",
    "#             print(idx)\n",
    "            \n",
    "        else:\n",
    "            #determine which labels are not used\n",
    "            #print(i)\n",
    "            \n",
    "            counter+=1\n",
    "            #print(counter)\n",
    "            idx.append(False)\n",
    "       \n",
    "    \n",
    "    #print(len(idx))\n",
    "  #for i in range(0, max(labels)+1):\n",
    "  #  idxs = np.where(labels == i)[0]\n",
    "  #  print(\"{}: {} {}\".format(i, len(idxs), idxs))\n",
    "    for idxA in range(0, max(labels)+1):\n",
    "        #grab current audioclip and label\n",
    "        currentImage = images[idxA]\n",
    "        label = labels[idxA]\n",
    "\n",
    "#         if (idx[label] == 0):\n",
    "#             print(idx[label])\n",
    "        #randomly pick clip with same label\n",
    "        idxB = np.random.choice(idx[label])\n",
    "        posImage = images[idxB]\n",
    "        \n",
    "        #prepare a positive pauir and update audio and labels\n",
    "        pairImages.append([currentImage, posImage])\n",
    "        pairLabels.append([1])\n",
    "\n",
    "        #create negative pairs\n",
    "        negIdx = np.where(labels != label)[0]\n",
    "        \n",
    "        \n",
    "        randomValue = random.randint(0, len(negIdx)-1)\n",
    "        negId = negIdx[randomValue]\n",
    "        \n",
    "        #Why would we choose a random 'image' here? We want to keep the labels te same as the actual values right?\n",
    "        negImage = images[negId]\n",
    "        \n",
    "        #prepare a negative pair and update lists\n",
    "        pairImages.append([currentImage, negImage])\n",
    "        pairLabels.append([0])\n",
    "        \n",
    "#         if (y_train[idxA] == y_train[negId]):\n",
    "#             # throw when idxA and negIdx are the same person\n",
    "#             print(\"ERRRORRRRRR\")\n",
    "#         print(len(pairImages))\n",
    "    return (np.array(pairImages), np.array(pairLabels))\n",
    "\n",
    "(pairTrain, labelTrain) = make_pairs(X_train, y_train)"
   ]
  },
  {
   "cell_type": "code",
   "execution_count": 151,
   "metadata": {
    "colab": {
     "base_uri": "https://localhost:8080/",
     "height": 301
    },
    "id": "zGrxzLh_fqZ4",
    "outputId": "766ec18f-0f8f-4b97-d35b-ceb7b734a76e"
   },
   "outputs": [
    {
     "name": "stdout",
     "output_type": "stream",
     "text": [
      "(2028, 2, 11025)\n",
      "(2028, 1)\n"
     ]
    }
   ],
   "source": [
    "# (pairTrain, labelTrain) = make_pairs(X_train, y_train)\n",
    "numClasses = len(np.unique(y_train))\n",
    "# print(numClasses)\n",
    "\n",
    "# print(pairTrain.shape)\n",
    "# print(pairTrain[0])\n",
    "\n",
    "\n",
    "print(pairTrain.shape)\n",
    "print(labelTrain.shape)\n",
    "with open('test.txt', 'w') as f:\n",
    "    for item in pairTrain:\n",
    "         f.write(\"%s\\n\" % item)\n",
    "\n",
    "# for pair in pairTrain:\n",
    "#     for value in pair: \n",
    "#         if (value[0] == 0):\n",
    "#             print(value[0])\n",
    "# print(y_train[1])\n",
    "# print(y_train[2762])\n",
    "\n",
    "X_train = pairTrain\n",
    "# print(y_train[1013])\n",
    "# print(y_train[2417])"
   ]
  },
  {
   "cell_type": "code",
   "execution_count": 152,
   "metadata": {
    "id": "DySBEHXKUt92"
   },
   "outputs": [],
   "source": [
    "def build_base_network(input_shape):\n",
    "    input = Input(shape=input_shape)\n",
    "    x = Flatten()(input)\n",
    "    x = Dense(128, activation='relu')(x)\n",
    "    x = Dropout(0.1)(x)\n",
    "    x = Dense(128, activation='relu')(x)\n",
    "    x = Dropout(0.1)(x)\n",
    "    x = Dense(128, activation='relu')(x)\n",
    "    return Model(input, x)"
   ]
  },
  {
   "cell_type": "code",
   "execution_count": 153,
   "metadata": {
    "id": "9iPfJDMIUt92"
   },
   "outputs": [],
   "source": [
    "\n",
    "input_dim = X_train.shape[2:]\n",
    "\n",
    "audio_a = Input(shape=input_dim)\n",
    "audio_b = Input(shape=input_dim)"
   ]
  },
  {
   "cell_type": "code",
   "execution_count": 154,
   "metadata": {
    "id": "sJRdTFTHUt94"
   },
   "outputs": [],
   "source": [
    "base_network = build_base_network(input_dim)\n",
    "\n",
    "feat_vecs_a = base_network(audio_a)\n",
    "feat_vecs_b = base_network(audio_b)"
   ]
  },
  {
   "cell_type": "code",
   "execution_count": 155,
   "metadata": {
    "id": "gHQz-KiVUt94"
   },
   "outputs": [],
   "source": [
    "def euclidean_distance(vects):\n",
    "    x, y = vects\n",
    "    return K.sqrt(K.sum(K.square(x - y), axis=1, keepdims=True))\n",
    "\n",
    "\n",
    "def eucl_dist_output_shape(shapes):\n",
    "    shape1, shape2 = shapes\n",
    "    return (shape1[0], 1)"
   ]
  },
  {
   "cell_type": "code",
   "execution_count": 156,
   "metadata": {
    "id": "Zrlze59bUt95"
   },
   "outputs": [],
   "source": [
    "distance = Lambda(euclidean_distance, output_shape=eucl_dist_output_shape)([feat_vecs_a, feat_vecs_b])"
   ]
  },
  {
   "cell_type": "code",
   "execution_count": 157,
   "metadata": {
    "id": "kSClEZhhUt96"
   },
   "outputs": [],
   "source": [
    "epochs = 13\n",
    "rms = RMSprop()"
   ]
  },
  {
   "cell_type": "code",
   "execution_count": 158,
   "metadata": {
    "id": "e5JHt_z5Ut97"
   },
   "outputs": [],
   "source": [
    "model = Model([audio_a, audio_b], distance)"
   ]
  },
  {
   "cell_type": "code",
   "execution_count": 159,
   "metadata": {
    "id": "kD9RxCMjUt99"
   },
   "outputs": [],
   "source": [
    "def contrastive_loss(y_true, y_pred):\n",
    "    margin = 1\n",
    "    return K.mean(y_true * K.square(y_pred) + (1 - y_true) * K.square(K.maximum(margin - y_pred, 0)))"
   ]
  },
  {
   "cell_type": "code",
   "execution_count": 160,
   "metadata": {
    "id": "LIKgK1arUt99"
   },
   "outputs": [],
   "source": [
    "model.compile(loss=contrastive_loss, optimizer=rms)"
   ]
  },
  {
   "cell_type": "code",
   "execution_count": 161,
   "metadata": {
    "id": "fCgtX4WhUt99",
    "outputId": "b8e514d6-6a44-478e-d034-86e988086512"
   },
   "outputs": [
    {
     "name": "stdout",
     "output_type": "stream",
     "text": [
      "2028\n",
      "2028\n",
      "[[-0.07931909 -0.13752252 -0.23027724 ...  0.00196907  0.00444865\n",
      "   0.01781415]\n",
      " [ 0.05252755 -0.05839225  0.02091636 ... -0.02272057  0.02656228\n",
      "   0.03136083]\n",
      " [-0.01365361 -0.01069179 -0.01241004 ... -0.09604666 -0.08082318\n",
      "  -0.05730995]\n",
      " ...\n",
      " [ 0.03885582  0.02049039  0.05103874 ...  0.00387909  0.00417048\n",
      "   0.00097108]\n",
      " [-0.7252695  -0.69353575 -0.57106483 ... -0.08805424 -0.09067984\n",
      "  -0.04239523]\n",
      " [-0.00517329  0.00188006  0.00836466 ...  0.18082255  0.18206796\n",
      "   0.20113985]]\n",
      "[[[ 7.06316263e-04 -2.36646198e-02 -1.29810805e-02 ... -6.82306886e-02\n",
      "   -6.56690076e-02 -8.61486346e-02]\n",
      "  [-7.93190897e-02 -1.37522519e-01 -2.30277240e-01 ...  1.96906738e-03\n",
      "    4.44864715e-03  1.78141538e-02]]\n",
      "\n",
      " [[ 7.06316263e-04 -2.36646198e-02 -1.29810805e-02 ... -6.82306886e-02\n",
      "   -6.56690076e-02 -8.61486346e-02]\n",
      "  [ 5.25275543e-02 -5.83922528e-02  2.09163558e-02 ... -2.27205679e-02\n",
      "    2.65622791e-02  3.13608274e-02]]\n",
      "\n",
      " [[-1.87887845e-03 -2.27281172e-03 -2.47887266e-03 ... -2.33109936e-01\n",
      "   -2.20184118e-01 -2.11641222e-01]\n",
      "  [-1.36536127e-02 -1.06917880e-02 -1.24100354e-02 ... -9.60466564e-02\n",
      "   -8.08231756e-02 -5.73099479e-02]]\n",
      "\n",
      " ...\n",
      "\n",
      " [[-2.36028247e-02 -2.76201721e-02 -2.71857269e-02 ...  1.88592762e-01\n",
      "   -2.74506539e-01  1.90445736e-01]\n",
      "  [ 3.88558172e-02  2.04903912e-02  5.10387383e-02 ...  3.87909426e-03\n",
      "    4.17048112e-03  9.71083529e-04]]\n",
      "\n",
      " [[-1.09450676e-01  4.49471772e-02  5.06723858e-03 ... -3.53595585e-01\n",
      "    3.28094482e-01 -1.43033415e-01]\n",
      "  [-7.25269496e-01 -6.93535745e-01 -5.71064830e-01 ... -8.80542397e-02\n",
      "   -9.06798393e-02 -4.23952304e-02]]\n",
      "\n",
      " [[-1.09450676e-01  4.49471772e-02  5.06723858e-03 ... -3.53595585e-01\n",
      "    3.28094482e-01 -1.43033415e-01]\n",
      "  [-5.17328782e-03  1.88006484e-03  8.36465508e-03 ...  1.80822551e-01\n",
      "    1.82067961e-01  2.01139852e-01]]]\n"
     ]
    }
   ],
   "source": [
    "audio_1 = X_train[:, 0]\n",
    "audio_2 = X_train[:, 1]\n",
    "print(len(audio_2))\n",
    "print(len(X_train))\n",
    "\n",
    "print(audio_2)\n",
    "print(X_train)"
   ]
  },
  {
   "cell_type": "code",
   "execution_count": 163,
   "metadata": {
    "id": "uA86wtp8Ut99",
    "outputId": "869b5e26-c23c-4082-a9ff-9a419506d381"
   },
   "outputs": [
    {
     "name": "stdout",
     "output_type": "stream",
     "text": [
      "[[ 0.00070632 -0.02366462 -0.01298108 ... -0.06823069 -0.06566901\n",
      "  -0.08614863]\n",
      " [ 0.00070632 -0.02366462 -0.01298108 ... -0.06823069 -0.06566901\n",
      "  -0.08614863]\n",
      " [-0.00187888 -0.00227281 -0.00247887 ... -0.23310994 -0.22018412\n",
      "  -0.21164122]\n",
      " ...\n",
      " [-0.02360282 -0.02762017 -0.02718573 ...  0.18859276 -0.27450654\n",
      "   0.19044574]\n",
      " [-0.10945068  0.04494718  0.00506724 ... -0.35359558  0.32809448\n",
      "  -0.14303342]\n",
      " [-0.10945068  0.04494718  0.00506724 ... -0.35359558  0.32809448\n",
      "  -0.14303342]]\n",
      "[[-0.07931909 -0.13752252 -0.23027724 ...  0.00196907  0.00444865\n",
      "   0.01781415]\n",
      " [ 0.05252755 -0.05839225  0.02091636 ... -0.02272057  0.02656228\n",
      "   0.03136083]\n",
      " [-0.01365361 -0.01069179 -0.01241004 ... -0.09604666 -0.08082318\n",
      "  -0.05730995]\n",
      " ...\n",
      " [ 0.03885582  0.02049039  0.05103874 ...  0.00387909  0.00417048\n",
      "   0.00097108]\n",
      " [-0.7252695  -0.69353575 -0.57106483 ... -0.08805424 -0.09067984\n",
      "  -0.04239523]\n",
      " [-0.00517329  0.00188006  0.00836466 ...  0.18082255  0.18206796\n",
      "   0.20113985]]\n",
      "[374. 548. 670. ... 917.  92. 909.]\n",
      "<class 'numpy.float64'>\n",
      "Epoch 1/13\n",
      "12/12 - 1s - loss: nan - val_loss: nan\n",
      "Epoch 2/13\n",
      "12/12 - 1s - loss: nan - val_loss: nan\n",
      "Epoch 3/13\n",
      "12/12 - 1s - loss: nan - val_loss: nan\n",
      "Epoch 4/13\n",
      "12/12 - 1s - loss: nan - val_loss: nan\n",
      "Epoch 5/13\n",
      "12/12 - 1s - loss: nan - val_loss: nan\n",
      "Epoch 6/13\n",
      "12/12 - 1s - loss: nan - val_loss: nan\n",
      "Epoch 7/13\n",
      "12/12 - 1s - loss: nan - val_loss: nan\n",
      "Epoch 8/13\n",
      "12/12 - 1s - loss: nan - val_loss: nan\n",
      "Epoch 9/13\n",
      "12/12 - 1s - loss: nan - val_loss: nan\n",
      "Epoch 10/13\n",
      "12/12 - 1s - loss: nan - val_loss: nan\n",
      "Epoch 11/13\n",
      "12/12 - 1s - loss: nan - val_loss: nan\n",
      "Epoch 12/13\n",
      "12/12 - 1s - loss: nan - val_loss: nan\n",
      "Epoch 13/13\n",
      "12/12 - 1s - loss: nan - val_loss: nan\n",
      "Model: \"model_2\"\n",
      "__________________________________________________________________________________________________\n",
      "Layer (type)                    Output Shape         Param #     Connected to                     \n",
      "==================================================================================================\n",
      "input_4 (InputLayer)            [(None, 11025)]      0                                            \n",
      "__________________________________________________________________________________________________\n",
      "input_5 (InputLayer)            [(None, 11025)]      0                                            \n",
      "__________________________________________________________________________________________________\n",
      "model_1 (Functional)            (None, 128)          1444352     input_4[0][0]                    \n",
      "                                                                 input_5[0][0]                    \n",
      "__________________________________________________________________________________________________\n",
      "lambda_1 (Lambda)               (None, 1)            0           model_1[0][0]                    \n",
      "                                                                 model_1[1][0]                    \n",
      "==================================================================================================\n",
      "Total params: 1,444,352\n",
      "Trainable params: 1,444,352\n",
      "Non-trainable params: 0\n",
      "__________________________________________________________________________________________________\n"
     ]
    }
   ],
   "source": [
    "\n",
    "print(audio_1)\n",
    "print(audio_2)\n",
    "y_train = y_train.astype(np.float)\n",
    "print(y_train)\n",
    "print(type(y_train[0]))\n",
    "\n",
    "model.fit([audio_1, audio_2], y_train, validation_split=.25,\n",
    "          batch_size=128, verbose=2, epochs=epochs)\n",
    "model.summary()"
   ]
  },
  {
   "cell_type": "code",
   "execution_count": null,
   "metadata": {
    "id": "4HYqDMwJUt9-"
   },
   "outputs": [],
   "source": []
  },
  {
   "cell_type": "code",
   "execution_count": null,
   "metadata": {
    "id": "zr1Af43qUt9_"
   },
   "outputs": [],
   "source": []
  },
  {
   "cell_type": "code",
   "execution_count": null,
   "metadata": {
    "id": "5yTE7tdWUt-A"
   },
   "outputs": [],
   "source": []
  },
  {
   "cell_type": "code",
   "execution_count": null,
   "metadata": {
    "id": "KgoPKyf_Ut-A"
   },
   "outputs": [],
   "source": []
  },
  {
   "cell_type": "code",
   "execution_count": null,
   "metadata": {
    "id": "F5Da0qOVUt-A"
   },
   "outputs": [],
   "source": []
  }
 ],
 "metadata": {
  "colab": {
   "collapsed_sections": [],
   "name": "Challange.ipynb",
   "provenance": []
  },
  "kernelspec": {
   "display_name": "Python 3",
   "language": "python",
   "name": "python3"
  },
  "language_info": {
   "codemirror_mode": {
    "name": "ipython",
    "version": 3
   },
   "file_extension": ".py",
   "mimetype": "text/x-python",
   "name": "python",
   "nbconvert_exporter": "python",
   "pygments_lexer": "ipython3",
   "version": "3.8.3"
  }
 },
 "nbformat": 4,
 "nbformat_minor": 1
}
